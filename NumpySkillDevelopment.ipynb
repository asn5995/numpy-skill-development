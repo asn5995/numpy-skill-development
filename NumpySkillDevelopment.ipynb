{
 "cells": [
  {
   "cell_type": "markdown",
   "metadata": {},
   "source": []
  },
  {
   "cell_type": "code",
   "execution_count": 2,
   "metadata": {},
   "outputs": [
    {
     "name": "stdout",
     "output_type": "stream",
     "text": [
      "[[[1. 1. 1. 1.]\n",
      "  [1. 1. 1. 1.]\n",
      "  [1. 1. 1. 1.]]\n",
      "\n",
      " [[1. 1. 1. 1.]\n",
      "  [1. 1. 1. 1.]\n",
      "  [1. 1. 1. 1.]]]\n"
     ]
    }
   ],
   "source": [
    "import numpy as np\n",
    "\n",
    "def array_ones(shape):\n",
    "    return np.ones(shape)\n",
    "\n",
    "print(array_ones([2,3,4]))"
   ]
  },
  {
   "cell_type": "code",
   "execution_count": 3,
   "metadata": {},
   "outputs": [
    {
     "name": "stdout",
     "output_type": "stream",
     "text": [
      "[[5. 0. 0. 0. 0.]\n",
      " [0. 5. 0. 0. 0.]\n",
      " [0. 0. 5. 0. 0.]\n",
      " [0. 0. 0. 5. 0.]\n",
      " [0. 0. 0. 0. 5.]]\n"
     ]
    }
   ],
   "source": [
    "def identity_matrix1(n,m):\n",
    "    return n*np.eye(m)\n",
    "\n",
    "print(identity_matrix1(5,5))"
   ]
  },
  {
   "cell_type": "code",
   "execution_count": 4,
   "metadata": {},
   "outputs": [
    {
     "name": "stdout",
     "output_type": "stream",
     "text": [
      "[ 0. 10. 20. 30. 40. 50.]\n"
     ]
    }
   ],
   "source": [
    "#Write a numpy funtions that takes 3 numbers- a start, stop and a n samples\n",
    "\n",
    "def linspaceproblem(start,stop,n):\n",
    "    return np.linspace(start,stop,n)\n",
    "print(linspaceproblem(0,50,6))"
   ]
  },
  {
   "cell_type": "code",
   "execution_count": 5,
   "metadata": {},
   "outputs": [
    {
     "name": "stdout",
     "output_type": "stream",
     "text": [
      "[[1 0 0]\n",
      " [0 2 0]\n",
      " [0 0 3]]\n"
     ]
    }
   ],
   "source": [
    "# Write a function that takes a list of numbers and returns a square NumPy matrix with the given numbers on the diagonal.\n",
    "\n",
    "def diagmatrix(lst):\n",
    "    return np.diag(lst)\n",
    "print(diagmatrix([1,2,3]))"
   ]
  },
  {
   "cell_type": "code",
   "execution_count": 6,
   "metadata": {},
   "outputs": [
    {
     "name": "stdout",
     "output_type": "stream",
     "text": [
      "[10 50 90]\n"
     ]
    }
   ],
   "source": [
    "#Write a function that takes a 2-dimensional NumPy array and returns a new array with the diagonal elements of the original array.\n",
    "\n",
    "def extract_diagonal(arr):\n",
    "    return np.diag(arr)\n",
    "print(extract_diagonal([[10, 20, 30],[40, 50, 60],[70, 80, 90]]))"
   ]
  },
  {
   "cell_type": "code",
   "execution_count": 7,
   "metadata": {},
   "outputs": [
    {
     "name": "stdout",
     "output_type": "stream",
     "text": [
      "[[5 5 5]\n",
      " [5 5 5]]\n"
     ]
    }
   ],
   "source": [
    "#Write a function that takes a list of integers shape and a fill value val and returns a NumPy array with the given shape filled with the given fill value.\n",
    "\n",
    "def custom_filled_array(shape,val):\n",
    "    return np.full(shape,val)\n",
    "print(np.full((2,3),5))"
   ]
  },
  {
   "cell_type": "code",
   "execution_count": 8,
   "metadata": {},
   "outputs": [
    {
     "name": "stdout",
     "output_type": "stream",
     "text": [
      "[3 4]\n"
     ]
    }
   ],
   "source": [
    "# Write a function that takes two NumPy arrays and returns a NumPy array with the common elements of the two arrays.\n",
    "\n",
    "def common_elements(arr1,arr2):\n",
    "    return np.intersect1d(arr1,arr2)\n",
    "\n",
    "# Example\n",
    "a = np.array([1, 2, 3, 4])\n",
    "b = np.array([3, 4, 5, 6])\n",
    "print(common_elements(a, b))"
   ]
  },
  {
   "cell_type": "code",
   "execution_count": 9,
   "metadata": {},
   "outputs": [
    {
     "name": "stdout",
     "output_type": "stream",
     "text": [
      "[[1. 0. 0.]\n",
      " [1. 1. 0.]\n",
      " [1. 1. 1.]]\n",
      "[[1. 0. 0. 0.]\n",
      " [1. 1. 0. 0.]\n",
      " [1. 1. 1. 0.]\n",
      " [1. 1. 1. 1.]]\n"
     ]
    }
   ],
   "source": [
    "# Write a function that takes an integer n and returns a NumPy array with the lower triangle of a matrix of size (n, n)filled with ones and the rest of the elements filled with zeros.\n",
    "\n",
    "def lower_triangle_ones(n):\n",
    "    return np.tril(np.ones((n,n)))\n",
    "print(lower_triangle_ones(3))\n",
    "\n",
    "#Udemy code\n",
    "\n",
    "def lower_triangle_ones_2(n):\n",
    "    return np.tri(n)\n",
    "print(lower_triangle_ones_2(4))"
   ]
  },
  {
   "cell_type": "code",
   "execution_count": 10,
   "metadata": {},
   "outputs": [
    {
     "name": "stdout",
     "output_type": "stream",
     "text": [
      "[[1. 1. 1.]\n",
      " [0. 1. 1.]\n",
      " [0. 0. 1.]]\n"
     ]
    }
   ],
   "source": [
    "#Write a function that takes an integer n and returns a NumPy array with the upper triangle of a matrix of size (n, n)filled with ones and the rest of the elements filled with zeros.\n",
    "\n",
    "def upper_triangle_ones(n):\n",
    "    return np.triu(np.ones((n,n)))\n",
    "print(upper_triangle_ones(3))\n"
   ]
  },
  {
   "cell_type": "code",
   "execution_count": 11,
   "metadata": {},
   "outputs": [
    {
     "name": "stdout",
     "output_type": "stream",
     "text": [
      "[[ 0  1  2  3]\n",
      " [ 4  5  6  7]\n",
      " [ 8  9 10 11]]\n"
     ]
    }
   ],
   "source": [
    "#Given a 1D NumPy array arr, use the reshape function to create a 2D NumPy array with 2 rows and 4 columns, such that the elements of arr are arranged in the resulting array in row-major order.\n",
    "def array_reshape(a,b):\n",
    "    arr = np.arange(12, dtype='int')\n",
    "    return arr.reshape(a,b)\n",
    "print(array_reshape(3,4))"
   ]
  },
  {
   "cell_type": "code",
   "execution_count": 12,
   "metadata": {},
   "outputs": [
    {
     "name": "stdout",
     "output_type": "stream",
     "text": [
      "[ 0  4  8  1  5  9  2  6 10  3  7 11]\n"
     ]
    }
   ],
   "source": [
    "# Given a 2D NumPy array arr, use the reshape function to flatten the array into a 1D NumPy array.\n",
    "def array_flatten():\n",
    "    a = np.arange(12, dtype='int').reshape(3, 4)\n",
    "    return np.reshape(a,12,order='F')\n",
    "print(array_flatten())"
   ]
  },
  {
   "cell_type": "code",
   "execution_count": 13,
   "metadata": {},
   "outputs": [
    {
     "name": "stdout",
     "output_type": "stream",
     "text": [
      "[[[ 0  1  2  3]\n",
      "  [ 4  5  6  7]\n",
      "  [ 8  9 10 11]]]\n"
     ]
    }
   ],
   "source": [
    "#Given a 2D NumPy array of shape (3,4), add a new axis to the array in such a way that the resulting array has shape (1,3,4).\n",
    "\n",
    "def add_axis():\n",
    "    a = np.arange(12, dtype='int').reshape(3, 4)\n",
    "    return a.reshape(1,3,4)\n",
    "b=add_axis()\n",
    "print(b)"
   ]
  },
  {
   "cell_type": "code",
   "execution_count": 14,
   "metadata": {},
   "outputs": [
    {
     "name": "stdout",
     "output_type": "stream",
     "text": [
      "[11 10  9  8  7  6  5  4  3  2  1  0]\n"
     ]
    }
   ],
   "source": [
    "# Given a 2D NumPy array a, use the ravel function to flatten the array into a 1D NumPy array, and then use slicing to reverse the flattened array.\n",
    "\n",
    "def flatten_and_reverse():\n",
    "    a=np.arange(12).reshape(3,4)\n",
    "    #Flatten the array using ravel()\n",
    "    flattened=a.ravel()\n",
    "    #Reverse the flattened array\n",
    "    reversed_arr=flattened[::-1]\n",
    "    return reversed_arr\n",
    "print(flatten_and_reverse())"
   ]
  },
  {
   "cell_type": "code",
   "execution_count": 15,
   "metadata": {},
   "outputs": [
    {
     "name": "stdout",
     "output_type": "stream",
     "text": [
      "[[-1  2 -3]\n",
      " [ 4 -5  6]]\n",
      "[[0 2 0]\n",
      " [4 0 6]]\n"
     ]
    }
   ],
   "source": [
    "#Given a 2D numpy array and a value, set all the negative elements of the array to the given value and print the array arr.\n",
    "\n",
    "arr = np.array([[-1, 2, -3], [4, -5, 6]])\n",
    "value = 0\n",
    "print(arr)\n",
    "np.copyto(arr,value,where=arr<0)\n",
    "print(arr)"
   ]
  },
  {
   "cell_type": "code",
   "execution_count": 16,
   "metadata": {},
   "outputs": [
    {
     "name": "stdout",
     "output_type": "stream",
     "text": [
      "[ 1  2  9  4 10]\n",
      "[-1 -2  3 -4  5]\n",
      "----------\n",
      "SOLUTION BELOW\n",
      "----------\n",
      "[ 0  0  9  0 10]\n"
     ]
    }
   ],
   "source": [
    "#Given two 1D numpy arrays of the same length and a value, set all the elements of the first array to the given value if the corresponding element in the second array is negative.\n",
    "\n",
    "arr1 = np.array([1, 2, 9, 4, 10])\n",
    "arr2 = np.array([-1, -2, 3, -4, 5])\n",
    "\n",
    "value = 0\n",
    "print(arr1)\n",
    "print(arr2)\n",
    "print('----------')\n",
    "print('SOLUTION BELOW')\n",
    "print('----------')\n",
    "np.copyto(arr1,value,where=arr2<0)\n",
    "print(arr1)"
   ]
  },
  {
   "cell_type": "code",
   "execution_count": 17,
   "metadata": {},
   "outputs": [
    {
     "name": "stdout",
     "output_type": "stream",
     "text": [
      "True\n"
     ]
    }
   ],
   "source": [
    "#Write a function, which returns True if the array is a 2D square matrix (i.e., has the same number of rows and columns), and False otherwise. \n",
    "\n",
    "def is_square_matrix(arr):\n",
    "    rows,cols=np.shape(arr)\n",
    "    return rows==cols\n",
    "\n",
    "# Example test cases\n",
    "sample_array1 = np.array([[1, 2], [3, 4]])\n",
    "sample_array2 = np.array([[1, 2, 3], [4, 5, 6]])\n",
    "\n",
    "print(is_square_matrix(sample_array1))"
   ]
  },
  {
   "cell_type": "code",
   "execution_count": 18,
   "metadata": {},
   "outputs": [
    {
     "name": "stdout",
     "output_type": "stream",
     "text": [
      "[6 5 4 3 2 1]\n"
     ]
    }
   ],
   "source": [
    "#Write a function that takes a numpy array as input and returns a new 1D array with the elements of the input array in reverse order. \n",
    "# Use the numpy.ndarray.flatten method to flatten the input array, and then use slicing to reverse the flattened array.\n",
    "\n",
    "def reverse_array(arr):\n",
    "    a=arr.flatten()\n",
    "    a=a[::-1]\n",
    "    return a\n",
    "\n",
    "# Example\n",
    "a = np.array([[1, 2, 3],[4, 5, 6]])\n",
    "\n",
    "print(reverse_array(a))\n",
    "\n"
   ]
  },
  {
   "cell_type": "code",
   "execution_count": 19,
   "metadata": {},
   "outputs": [
    {
     "name": "stdout",
     "output_type": "stream",
     "text": [
      "10\n"
     ]
    }
   ],
   "source": [
    "# Write a function that takes a numpy array as input and returns the sum of the elements of the array. \n",
    "# Use the numpy.ndarray.flatten method to flatten the input array, and then use the sum function to compute the sum of the elements.\n",
    "\n",
    "def sum_array(arr):\n",
    "    a=arr.flatten()\n",
    "    return a.sum()\n",
    "\n",
    "#Example\n",
    "a = np.array([[1, 2],[3, 4]])\n",
    "\n",
    "print(sum_array(a))"
   ]
  },
  {
   "cell_type": "code",
   "execution_count": 20,
   "metadata": {},
   "outputs": [
    {
     "name": "stdout",
     "output_type": "stream",
     "text": [
      "[[1 4]\n",
      " [2 5]\n",
      " [3 6]]\n"
     ]
    }
   ],
   "source": [
    "# Write a function that takes a 2D numpy array and returns a new array with the rows and columns of the input array swapped. \n",
    "# For example array [[1, 2, 3], [4, 5, 6] is transposed as [[1, 4], [2, 5], [3, 6]]\n",
    "\n",
    "def transpose_array(arr):\n",
    "    transpose_arr=np.transpose(arr)\n",
    "    return transpose_arr\n",
    "\n",
    "#Example\n",
    "\n",
    "a = np.array([[1, 2, 3],\n",
    "[4, 5, 6]])\n",
    "\n",
    "print(transpose_array(a))"
   ]
  },
  {
   "cell_type": "code",
   "execution_count": 21,
   "metadata": {},
   "outputs": [
    {
     "name": "stdout",
     "output_type": "stream",
     "text": [
      "[1 2 3 4 5 6 7 8 9]\n"
     ]
    }
   ],
   "source": [
    "#Given a 1D array, determine and print the elements of the input arrays concatenated in the order they appear in the list.\n",
    "\n",
    "def simple_array_concatentate(a):\n",
    "    a=np.concatenate(a)\n",
    "    return a\n",
    "\n",
    "#Example \n",
    "\n",
    "sample_arr_list = [np.array([1, 2, 3]), np.array([4, 5, 6]), np.array([7, 8, 9])]\n",
    "\n",
    "print(simple_array_concatentate(sample_arr_list))\n"
   ]
  },
  {
   "cell_type": "code",
   "execution_count": 22,
   "metadata": {},
   "outputs": [
    {
     "name": "stdout",
     "output_type": "stream",
     "text": [
      "[[ 1  2  3]\n",
      " [ 4  5  6]\n",
      " [ 7  8  9]\n",
      " [10 11 12]]\n"
     ]
    }
   ],
   "source": [
    "#Given a list of 2D arrays,  determine and print the arrays in the list concatenated vertically (i.e., one below the other).\n",
    "\n",
    "def array_vertical_concatenate(a):\n",
    "    a=np.concatenate(a,axis=0)\n",
    "    return a\n",
    "\n",
    "#Example\n",
    "sample_arr_list = [np.array([[1, 2, 3], [4, 5, 6]]), np.array([[7, 8, 9], [10, 11, 12]])]\n",
    "\n",
    "print(simple_array_concatentate(sample_arr_list))"
   ]
  },
  {
   "cell_type": "code",
   "execution_count": 23,
   "metadata": {},
   "outputs": [
    {
     "name": "stdout",
     "output_type": "stream",
     "text": [
      "[[10 20 30]\n",
      " [70 80 90]]\n"
     ]
    }
   ],
   "source": [
    "# Write a function that takes in a two-dimensional NumPy array arr and an integer index, and removes the row at the given index from the array. \n",
    "# Your function should return the modified array.\n",
    "\n",
    "def delete_rows(arr,index):\n",
    "    return np.delete(arr,index,axis=0)\n",
    "\n",
    "#Example\n",
    "a = np.array([[10, 20, 30],\n",
    "              [40, 50, 60],\n",
    "              [70, 80, 90]])\n",
    "\n",
    "print(delete_rows(a,1))\n",
    "    \n",
    "    "
   ]
  },
  {
   "cell_type": "code",
   "execution_count": 24,
   "metadata": {},
   "outputs": [
    {
     "name": "stdout",
     "output_type": "stream",
     "text": [
      "[array([1, 2, 3, 6]), array([ 4,  5,  6, 15]), array([ 7,  8,  9, 24])]\n"
     ]
    }
   ],
   "source": [
    "# Given a list of lists, where each inner list contains integers. \n",
    "# Using numpy.append() function add the sum of all integers in each inner list to the end of the list. Print the modified list of lists.\n",
    "\n",
    "lst = [[1, 2, 3], [4, 5, 6], [7, 8, 9]]\n",
    "\n",
    "modified_list=[]\n",
    "for inner_list in lst:\n",
    "    sum_lst=sum(inner_list)\n",
    "    modified_list.append(np.append(inner_list,sum_lst))\n",
    "\n",
    "print(modified_list)\n"
   ]
  },
  {
   "cell_type": "code",
   "execution_count": 25,
   "metadata": {},
   "outputs": [
    {
     "name": "stdout",
     "output_type": "stream",
     "text": [
      "[array([1, 2, 3]), array([1, 2, 3]), array([1, 2, 3]), array([1, 2, 3])]\n"
     ]
    }
   ],
   "source": [
    "#Write a function that takes in a list of integers and a value n, and returns a new list containing the original list repeated n times. For example:\n",
    "# repeat_list([1, 2, 3], 4) should print [[1, 2, 3], [1, 2, 3], [1, 2, 3], [1, 2, 3]]\n",
    "\n",
    "def repeat_list(lst,n):\n",
    "    return [np.array(lst).copy() for _ in range(n)]\n",
    "print(repeat_list([1,2,3],4))"
   ]
  },
  {
   "cell_type": "code",
   "execution_count": 26,
   "metadata": {},
   "outputs": [
    {
     "name": "stdout",
     "output_type": "stream",
     "text": [
      "[array([1, 2, 3, 0, 0]), array([ 4,  5,  6, 99,  0]), array([7, 8, 0, 0, 0])]\n"
     ]
    }
   ],
   "source": [
    "# Given a list of lists, where each inner list contains integers. \n",
    "# Write a code using the numpy.resize() function to pad each inner list with zeros until it has length n.  For example:\n",
    "# pad_lists([[1, 2, 3], [4, 5, 6,99], [7, 8]], 5)  #Print [array([1, 2, 3, 0, 0]), array([ 4,  5,  6, 99,  0]), array([7, 8, 0, 0, 0])]\n",
    "\n",
    "lst = [[1, 2, 3], [4, 5, 6,99], [7, 8]]\n",
    "pad = 5\n",
    "\n",
    "padded_lst=[]\n",
    "\n",
    "for inner_lst in lst:\n",
    "    arr=np.array(inner_lst)\n",
    "    arr.resize(pad)\n",
    "    padded_lst.append(arr)\n",
    "print(padded_lst)\n"
   ]
  },
  {
   "cell_type": "code",
   "execution_count": 27,
   "metadata": {},
   "outputs": [
    {
     "name": "stdout",
     "output_type": "stream",
     "text": [
      "[array([2, 3, 5]), array([1, 2, 4, 5]), array([2, 3, 5])]\n"
     ]
    }
   ],
   "source": [
    "# Given a list of lists, where each inner list contains integers. \n",
    "# Write the code to find the unique values in each inner list, and then print a new list of lists containing the unique values.\n",
    "# The inner lists in the returned list should be sorted in ascending order.\n",
    "\n",
    "lst = [[3, 5, 2, 5], [2, 1, 4, 5], [5, 5, 3, 2]]\n",
    "\n",
    "unique_lst=[]\n",
    "\n",
    "for inner_lst in lst:\n",
    "    unique_inner_lst=np.sort(np.unique(inner_lst))\n",
    "    unique_lst.append(unique_inner_lst)\n",
    "\n",
    "print(unique_lst)"
   ]
  },
  {
   "cell_type": "code",
   "execution_count": 31,
   "metadata": {},
   "outputs": [
    {
     "name": "stdout",
     "output_type": "stream",
     "text": [
      "True\n"
     ]
    }
   ],
   "source": [
    "#Write a function that takes in two lists of integers, a and b, and returns a Boolean value indicating whether all elements of a are also present in b.\n",
    "#For example:\n",
    "#print(all_values_in_list([1, 2, 3], [1, 2, 3, 4, 5])) #True\n",
    "#print(all_values_in_list([1, 2, 3], [1, 2, 4, 5]))  #False\n",
    "\n",
    "def comparison(a,b):\n",
    "    a=np.array(a)\n",
    "    b=np.array(b)\n",
    "    return np.isin(a,b).all()\n",
    "print(comparison([1, 2, 3], [1, 2, 3, 4, 5]))"
   ]
  },
  {
   "cell_type": "code",
   "execution_count": 2,
   "metadata": {},
   "outputs": [
    {
     "name": "stdout",
     "output_type": "stream",
     "text": [
      "[3 4 5]\n"
     ]
    }
   ],
   "source": [
    "#Given a 1D array, write the code to remove all leading and trailing zeros from the array. Print the trimmed array.\n",
    "\n",
    "import numpy as np\n",
    "\n",
    "arr = np.array([0, 0, 3, 4, 5, 0, 0, 0])\n",
    "\n",
    " \n",
    "print(np.trim_zeros(arr))\n"
   ]
  },
  {
   "cell_type": "code",
   "execution_count": 3,
   "metadata": {},
   "outputs": [
    {
     "name": "stdout",
     "output_type": "stream",
     "text": [
      "Original shape: (2, 2, 1)\n",
      "New shape: (2, 2)\n",
      "[[1 2]\n",
      " [3 4]]\n"
     ]
    }
   ],
   "source": [
    "#Given a dictionary, where the keys are tuples and the values are integers. Convert the dictionary into a NumPy array and print the result\n",
    "\n",
    "import numpy as np\n",
    "\n",
    "arr = np.array([[[1], [2]], [[3], [4]]])\n",
    "print(\"Original shape:\", arr.shape)  # (2, 2, 1)\n",
    "\n",
    "squeezed = np.squeeze(arr)\n",
    "print(\"New shape:\", squeezed.shape)  # (2, 2)\n",
    "\n",
    "print(squeezed)\n"
   ]
  },
  {
   "cell_type": "code",
   "execution_count": 6,
   "metadata": {},
   "outputs": [
    {
     "name": "stdout",
     "output_type": "stream",
     "text": [
      "[[1 4]\n",
      " [2 5]\n",
      " [3 6]]\n"
     ]
    }
   ],
   "source": [
    "#Given two 1D numpy arrays, write the code to stack them horizontally (i.e., column-wise) to form a two-dimensional array.\n",
    "\n",
    "import numpy as np\n",
    "\n",
    "a = np.array([1, 2, 3])\n",
    "b = np.array([4, 5, 6])\n",
    "\n",
    "# Stack as columns (along axis 1 → columns grow)\n",
    "result = np.column_stack((a, b))\n",
    "print(result)\n"
   ]
  },
  {
   "cell_type": "code",
   "execution_count": 7,
   "metadata": {},
   "outputs": [
    {
     "name": "stdout",
     "output_type": "stream",
     "text": [
      "[array([1, 2, 3]), array([4, 5, 6])]\n"
     ]
    }
   ],
   "source": [
    "#Given a 1D array, write your code to split the array in two equal sized array and print the result.\n",
    "\n",
    "arr = np.array([1, 2, 3, 4, 5,6])\n",
    "split = 2\n",
    "\n",
    "print(np.split(arr,split))"
   ]
  },
  {
   "cell_type": "markdown",
   "metadata": {},
   "source": [
    "Logic Operations\n"
   ]
  },
  {
   "cell_type": "code",
   "execution_count": 12,
   "metadata": {},
   "outputs": [
    {
     "name": "stdout",
     "output_type": "stream",
     "text": [
      "[[[ 0  1  2]\n",
      "  [ 3  4  5]\n",
      "  [ 6  7  8]]\n",
      "\n",
      " [[ 9 10 11]\n",
      "  [12 13 14]\n",
      "  [15 16 17]]\n",
      "\n",
      " [[18 19 20]\n",
      "  [21 22 23]\n",
      "  [24 25 26]]]\n",
      "[[False False  True]\n",
      " [ True  True  True]\n",
      " [ True  True  True]]\n"
     ]
    }
   ],
   "source": [
    "#Given an array arr, reshape the array in a 3D matrix. Create and print a new 2D boolean array \"result\" such that each element\n",
    "# in \"result\" is True if all the elements in the corresponding 3D slice of \"arr\" are greater than a given scalar value \"value\", \n",
    "# and False otherwise.\n",
    "\n",
    "arr = np.arange(27).reshape(3,3,3)\n",
    "value=5\n",
    "print(arr)\n",
    "result=np.all(arr>value,axis=-1)\n",
    "print(result)"
   ]
  },
  {
   "cell_type": "code",
   "execution_count": 13,
   "metadata": {},
   "outputs": [
    {
     "name": "stdout",
     "output_type": "stream",
     "text": [
      "[False False  True]\n"
     ]
    }
   ],
   "source": [
    "#Given an array arr, reshape the array in (2,3) matrix and determine and print whether any elements in each column of arr are greater than 5.\n",
    "\n",
    "arr = np.arange(start = 1, stop = 7).reshape(2,3)\n",
    "value=5\n",
    "result=np.any(arr>value,axis=0)\n",
    "print(result)"
   ]
  },
  {
   "cell_type": "code",
   "execution_count": 14,
   "metadata": {},
   "outputs": [
    {
     "name": "stdout",
     "output_type": "stream",
     "text": [
      "[2 2 1]\n"
     ]
    }
   ],
   "source": [
    "#Given a 2D numpy array \"arr\", create and \n",
    "# print a new array \"result\" such that each element in \"result\" is the number of non-NaN elements in the corresponding row of \"arr\".\n",
    "\n",
    "arr = np.array([[1, 2, np.nan], [4, np.nan, 6], [np.nan, 8, np.nan]])\n",
    "\n",
    "result=np.sum(~np.isnan(arr),axis=1)\n",
    "print(result)"
   ]
  },
  {
   "cell_type": "code",
   "execution_count": 15,
   "metadata": {},
   "outputs": [
    {
     "name": "stdout",
     "output_type": "stream",
     "text": [
      "[2.5 5.  6. ]\n"
     ]
    }
   ],
   "source": [
    "#Given a 2D numpy array \"arr\", create and print a new array \"result\" such that each element in \"result\" is the mean of the non-NaN elements in the corresponding column of \"arr\".\n",
    "\n",
    "arr = np.array([[1, 2, np.nan], [4, np.nan, 6], [np.nan, 8, np.nan]])\n",
    "\n",
    "result = np.nanmean(arr, axis=0)\n",
    "print(result)"
   ]
  },
  {
   "cell_type": "code",
   "execution_count": 16,
   "metadata": {},
   "outputs": [
    {
     "name": "stdout",
     "output_type": "stream",
     "text": [
      "[[False  True False]\n",
      " [False  True False]]\n"
     ]
    }
   ],
   "source": [
    "#Given two NumPy arrays a and b, determine and print whether all elements in a are equal to the corresponding elements in b.\n",
    "a = [[1,2,3],\n",
    "      [4,5,6]]\n",
    "\n",
    "b = [[3,2,1],\n",
    "      [6,5,4]]\n",
    "\n",
    "result=np.equal(a,b)\n",
    "print(result)"
   ]
  },
  {
   "cell_type": "code",
   "execution_count": 19,
   "metadata": {},
   "outputs": [
    {
     "name": "stdout",
     "output_type": "stream",
     "text": [
      "[[0 1 1]\n",
      " [1 1 1]\n",
      " [1 1 1]]\n"
     ]
    }
   ],
   "source": [
    "#Given two 2D numpy arrays \"arr1\" and \"arr2\", create and print a new 2D array \"result\" such that each element in \"result\" is 1\n",
    "# if the corresponding element in \"arr1\" is equal to the corresponding element in \"arr2\" and 0 otherwise.\n",
    "\n",
    "arr1 = np.array([[1, 2, 3], [4, 5, 6], [7, 8, 9]])\n",
    "\n",
    "arr2 = np.array([[2, 2, 3], [4, 5, 6], [7, 8, 9]])\n",
    "\n",
    "result=np.equal(arr1,arr2).astype(int)\n",
    "\n",
    "print(result)"
   ]
  },
  {
   "cell_type": "markdown",
   "metadata": {},
   "source": [
    "Random Sampling "
   ]
  },
  {
   "cell_type": "code",
   "execution_count": 20,
   "metadata": {},
   "outputs": [
    {
     "name": "stdout",
     "output_type": "stream",
     "text": [
      "[ 0.88389311  0.19586502  0.35753652 -2.34326191 -1.08483259  0.55969629\n",
      "  0.93946935 -0.97848104  0.50309684  0.40641447  0.32346101 -0.49341088\n",
      " -0.79201679 -0.84236793 -1.27950266  0.24571517 -0.0441948   1.56763255\n",
      "  1.05110868  0.40636843 -0.1686461  -3.18970279  1.12013226  1.33277821\n",
      " -0.24333877 -0.13003071 -0.10901737  1.55618644  0.12877835 -2.06694872]\n"
     ]
    }
   ],
   "source": [
    "#Given a random seed set to 20, generate random 30 1-dimensional integer values\n",
    "\n",
    "np.random.seed(20)\n",
    "result=np.random.randn(30)\n",
    "print(result)"
   ]
  },
  {
   "cell_type": "code",
   "execution_count": 21,
   "metadata": {},
   "outputs": [
    {
     "name": "stdout",
     "output_type": "stream",
     "text": [
      "[[0.5881308  0.89771373 0.89153073 0.81583748 0.03588959]\n",
      " [0.69175758 0.37868094 0.51851095 0.65795147 0.19385022]\n",
      " [0.2723164  0.71860593 0.78300361 0.85032764 0.77524489]\n",
      " [0.03666431 0.11669374 0.7512807  0.23921822 0.25480601]\n",
      " [0.85762553 0.94977903 0.56168686 0.17878052 0.77025193]]\n"
     ]
    }
   ],
   "source": [
    "#Given a random seed set to 20, generate random 30 2-dimensional integer values of size 5,5\n",
    "np.random.seed(20)\n",
    "result=np.random.rand(5,5)\n",
    "print(result)\n"
   ]
  },
  {
   "cell_type": "code",
   "execution_count": 24,
   "metadata": {},
   "outputs": [
    {
     "name": "stdout",
     "output_type": "stream",
     "text": [
      "[[ 1.3315865   0.71527897 -1.54540029 -0.00838385]\n",
      " [ 0.62133597 -0.72008556  0.26551159  0.10854853]]\n"
     ]
    }
   ],
   "source": [
    "#Given a random seed set to 10, generate random 2-dimensional random integer values of size 2,4 of a normal distribution where mean is 3 and standard deviation 2.5\n",
    "\n",
    "np.random.seed(10)\n",
    "mu=3\n",
    "sigma=2.5\n",
    "print(np.random.normal(size=(2,4)))"
   ]
  },
  {
   "cell_type": "code",
   "execution_count": 25,
   "metadata": {},
   "outputs": [
    {
     "name": "stdout",
     "output_type": "stream",
     "text": [
      "[3 2 4]\n"
     ]
    }
   ],
   "source": [
    "#Using the numpy.random module, generate a random sample of size 3 from the given distribution p, with a seed value of 20, for the array arr.\n",
    "\n",
    "seed = 20\n",
    "arr = [0,1, 2, 3, 4]\n",
    "p = [0.1, 0, 0.3, 0.6, 0]\n",
    "\n",
    "np.random.seed(seed)\n",
    "result=np.random.choice(arr,3,p)\n",
    "print(result)"
   ]
  },
  {
   "cell_type": "code",
   "execution_count": 27,
   "metadata": {},
   "outputs": [
    {
     "name": "stdout",
     "output_type": "stream",
     "text": [
      "[2.95086889 0.04194059 2.0083226  2.7630426  1.38033131 0.50925978\n",
      " 0.44145012 2.85866021 0.37051774 0.18497592]\n"
     ]
    }
   ],
   "source": [
    "#Given a random seed to 10, write a program that generates a random sample of size 10 from an exponential distribution with a scale of 2\n",
    "\n",
    "np.random.seed(10)\n",
    "result=np.random.exponential(scale=2,size=10)\n",
    "print(result)"
   ]
  },
  {
   "cell_type": "code",
   "execution_count": 29,
   "metadata": {},
   "outputs": [
    {
     "name": "stdout",
     "output_type": "stream",
     "text": [
      "1.659699166617758\n",
      "[[0.93853618 6.02024286 2.63349139 1.82588511 0.33924974]\n",
      " [0.33919258 0.11967754 4.02246173 1.83816431 2.46250012]\n",
      " [0.04159862 7.00711495 3.57285909 0.47737525 0.40135798]\n",
      " [0.40522285 0.72550746 1.48785566 1.13107413 0.68844599]\n",
      " [1.89274175 0.30046906 0.69103102 0.91255444 1.21786938]]\n",
      "1.763804820988668\n"
     ]
    }
   ],
   "source": [
    "# Create a function that generates a 2-dimensional array of shape (5,5) with random numbers drawn from an exponential distribution with a scale of 2. The function should take one parameter, a seed value, and use it to initialize the numpy random number generator. \n",
    "# The function should also return the mean and standard deviation of the elements in the generated array.\n",
    "\n",
    "def generate_exponential_array(seed):\n",
    "    np.random.seed(seed)\n",
    "    arr=np.random.exponential(scale=2,size=(5,5))\n",
    "    mean=np.mean(arr)\n",
    "    std=np.std(arr)\n",
    "    return mean,arr,std\n",
    "\n",
    "arr, mean, std = generate_exponential_array(42)\n",
    "\n",
    "print(arr)\n",
    "print(mean)\n",
    "print(std)"
   ]
  },
  {
   "cell_type": "code",
   "execution_count": 30,
   "metadata": {},
   "outputs": [
    {
     "name": "stdout",
     "output_type": "stream",
     "text": [
      "[0.66185849 0.10186253 0.57200948 0.64560184 0.49925295 0.33525859\n",
      " 0.3146926  0.65397306 0.29078414 0.21016638]\n"
     ]
    }
   ],
   "source": [
    "#Given a random seed to 10, \n",
    "# write a program that generates a triangular random 10 sample with a lower bound of 0, an upper bound of 1, and a mode of 0.5.\n",
    "\n",
    "np.random.seed(10)\n",
    "p=np.random.triangular(0,0.5,1,10)\n",
    "print(p)"
   ]
  },
  {
   "cell_type": "markdown",
   "metadata": {},
   "source": [
    "Input and Output"
   ]
  },
  {
   "cell_type": "code",
   "execution_count": 2,
   "metadata": {},
   "outputs": [
    {
     "name": "stdout",
     "output_type": "stream",
     "text": [
      "0.5159425588519038\n",
      "0.2798807130486527\n",
      "[[0.19385022 0.2723164  0.71860593 0.78300361 0.85032764]\n",
      " [0.77524489 0.03666431 0.11669374 0.7512807  0.23921822]\n",
      " [0.25480601 0.85762553 0.94977903 0.56168686 0.17878052]\n",
      " [0.77025193 0.49238104 0.63125307 0.83949792 0.4610394 ]\n",
      " [0.49794007 0.67941112 0.65078591 0.26879524 0.06732467]]\n"
     ]
    }
   ],
   "source": [
    "#Given a data.npz file that contains multiple arrays, write a function to extract and return a specific array from the file by its name, \n",
    "# and then perform some calculations on that array, such as finding the mean and standard deviation. \n",
    "# Additionally, the program should handle cases where the specified array name does not exist in the file and raise an error message saying \"Array {array_name} not found in {file_name}.\"\n",
    "\n",
    "import numpy as np\n",
    "\n",
    "#Create some arrays\n",
    "\n",
    "np.random.seed(20)\n",
    "array1=np.random.rand(3,3)\n",
    "array2=np.random.rand(5,5)\n",
    "array3=np.random.rand(7,7)\n",
    "\n",
    "#Save the arrays in an npz.file\n",
    "\n",
    "np.savez('data1.npz',array1=array1,array2=array2,array3=array3)\n",
    "\n",
    "def extract_array(file_name,array_name):\n",
    "    #Load the .npz file\n",
    "    data=np.load(file_name)\n",
    "    \n",
    "    #Extract the array by its name\n",
    "    try:\n",
    "        array=data[array_name]\n",
    "    except KeyError:\n",
    "        raise ValueError(f\"Array {array_name} not found in {file_name}\")\n",
    "    \n",
    "    #Perform calculations on this array\n",
    "    mean=np.mean(array)\n",
    "    std=np.std(array)\n",
    "    return mean,std,array\n",
    "\n",
    "arr,mean,std=extract_array('data1.npz','array2')\n",
    "\n",
    "print(arr)\n",
    "print(mean)\n",
    "print(std)\n",
    "\n"
   ]
  },
  {
   "cell_type": "code",
   "execution_count": 3,
   "metadata": {},
   "outputs": [
    {
     "name": "stdout",
     "output_type": "stream",
     "text": [
      "[[3.13757682 1.04193454 2.66880656]\n",
      " [3.05831502 2.24552327 1.50012682]\n",
      " [1.43535463 3.09946839 1.36682015]]\n"
     ]
    }
   ],
   "source": [
    "#Given a file array.npy, Use np.load to read a NumPy array from the file \"array.npy\" and use the resulting array to create a new array that is the element-wise square of the original array\n",
    "\n",
    "import numpy as np\n",
    "\n",
    "#Create some arrays\n",
    "\n",
    "np.random.seed(10)\n",
    "array1=np.random.uniform(1,2,(3,3)) #Create random array\n",
    "np.save('array.npy',array1) #Save the arrays in an npy file\n",
    "\n",
    "#Load original array \n",
    "\n",
    "original_array=np.load('array.npy')\n",
    "\n",
    "#Output array\n",
    "\n",
    "squared_array=original_array**2\n",
    "\n",
    "print(squared_array)\n"
   ]
  },
  {
   "cell_type": "code",
   "execution_count": 4,
   "metadata": {},
   "outputs": [
    {
     "name": "stdout",
     "output_type": "stream",
     "text": [
      "[11. 16. 21. 26. 31. 36. 41. 46.]\n"
     ]
    }
   ],
   "source": [
    "#Given an array arr, save the file in csv format with the delimeter  as , (comma) \n",
    "# and load the same csv file and use boolean indexing to select elements that are greater than 10\n",
    "\n",
    "import numpy as np\n",
    "\n",
    "#Create some arrays\n",
    "arr=np.arange(1,50,5)\n",
    "\n",
    "np.savetxt('test.csv',arr,delimiter=',')\n",
    "\n",
    "arr=np.loadtxt('test.csv',delimiter=',')\n",
    "\n",
    "selected=arr[arr>10]\n",
    "\n",
    "print(selected)\n",
    "\n",
    "\n"
   ]
  },
  {
   "cell_type": "code",
   "execution_count": 2,
   "metadata": {},
   "outputs": [],
   "source": [
    "#Write a function that takes in a file path and a delimiter as input and returns the number of rows and columns in the file using the numpy.loadtxt \n",
    "# function. The function should handle the following edge cases:\n",
    "#If the file is not found, the function should raise a FileNotFoundError with a message \"File not found at specified path.\"\n",
    "#If the delimiter is not found in the file, the function should raise a ValueError with a message \"Delimiter not found in file.\"\n",
    "#If the file is empty, the function should return (0,0)\n",
    "#You should not use any other method or library apart from numpy.loadtxt.\n",
    "\n",
    "import numpy as np\n",
    "\n",
    "def get_file_dimensions(file_path, delimiter):\n",
    "    try:\n",
    "        data=np.loadtxt(file_path,delimiter=delimiter)\n",
    "    except OSError:\n",
    "        raise FileNotFoundError('File not found at specified path')\n",
    "    except ValueError:\n",
    "        raise ValueError('Delimiter not found in file')\n",
    "    if data.size==0:\n",
    "        return (0,0)\n",
    "    else:\n",
    "        return data.shape"
   ]
  },
  {
   "cell_type": "code",
   "execution_count": 7,
   "metadata": {},
   "outputs": [
    {
     "name": "stdout",
     "output_type": "stream",
     "text": [
      "[\n",
      " [1 2 3]\n",
      " [4 5 6]\n",
      "]\n"
     ]
    }
   ],
   "source": [
    "#Write a function that takes a 2D NumPy array as input and returns a string representation of the array in the following format:\n",
    "# [ [1 2 3] [4 5 6] ]\n",
    "import numpy as np\n",
    "\n",
    "def array_to_string(arr):\n",
    "    arr_str=np.array_str(arr)\n",
    "\n",
    "    # Format the string to desired output\n",
    "    \n",
    "    arr_str = arr_str.replace('[[', '[\\n [')   # add newline after outer [\n",
    "    arr_str = arr_str.replace(']]', ']\\n]')   # add newline before closing ]\n",
    "    \n",
    "    return arr_str\n",
    "\n",
    "# Test the function\n",
    "arr = np.array([[1, 2, 3], [4, 5, 6]])\n",
    "print(array_to_string(arr))"
   ]
  },
  {
   "cell_type": "code",
   "execution_count": 14,
   "metadata": {},
   "outputs": [
    {
     "name": "stdout",
     "output_type": "stream",
     "text": [
      "[ \n",
      " [ 1 2] \n",
      " [ 3 4] \n",
      "] \n",
      "[ \n",
      " [ 5 6] \n",
      " [ 7 8] \n",
      "] \n"
     ]
    }
   ],
   "source": [
    "#Write a function that takes a 3D NumPy array as input and returns a string representation of the array in the following format:\n",
    "\n",
    "#[ \n",
    "# [ 1 2] \n",
    "# [ 3 4] \n",
    "#] \n",
    "#[ \n",
    "# [ 5 6] \n",
    "# [ 7 8] \n",
    "#]\n",
    "\n",
    "import numpy as np\n",
    " \n",
    "def array_to_string(arr):\n",
    "    # Initialize an empty list to store the string representation of each layer\n",
    "    layers = []\n",
    " \n",
    "    # Iterate over the layers of the array\n",
    "    for layer in arr:\n",
    "        # Use numpy.array_str to generate a string representation of the layer\n",
    "        layer_str = np.array_str(layer)\n",
    " \n",
    "        # Replace '[[' with '[\\n [' and ']]' with ']\\n]'\n",
    "        layer_str = layer_str.replace('[[', '[\\n [')\n",
    "        layer_str = layer_str.replace(']]', ']\\n]')\n",
    " \n",
    "        # Replace '[' with '[' and ']' with ']'\n",
    "        layer_str = layer_str.replace('[', '[ ')\n",
    "        layer_str = layer_str.replace(']', '] ')\n",
    " \n",
    "        # Replace '  ' with ' '\n",
    "        layer_str = layer_str.replace('  ', ' ')\n",
    " \n",
    "        # Add the string representation of the layer to the list\n",
    "        layers.append(layer_str)\n",
    " \n",
    "    # Join the layers with a newline character\n",
    "    array_str = '\\n'.join(layers)\n",
    " \n",
    "    return array_str\n",
    " \n",
    "# Test the function\n",
    "arr = np.array([[[1, 2], [3, 4]], [[5, 6], [7, 8]]])\n",
    "print(array_to_string(arr))"
   ]
  },
  {
   "cell_type": "markdown",
   "metadata": {},
   "source": [
    "Sorting, searching and counting"
   ]
  },
  {
   "cell_type": "code",
   "execution_count": 1,
   "metadata": {},
   "outputs": [
    {
     "name": "stdout",
     "output_type": "stream",
     "text": [
      "[('Bob', 88) ('Dan', 90) ('Alice', 92) ('Charlie', 95)]\n"
     ]
    }
   ],
   "source": [
    "#Given a numpy array 'arr', sort and print 'arr' by score field.\n",
    "\n",
    "import numpy as np\n",
    "\n",
    "arr = np.array([('Alice', 92), ('Bob', 88), ('Charlie', 95), ('Dan', 90)],\n",
    "                dtype=[('name', 'U10'), ('score', 'i4')])\n",
    "\n",
    "\n",
    "arr.sort(order='score')\n",
    "print(arr)"
   ]
  },
  {
   "cell_type": "code",
   "execution_count": 2,
   "metadata": {},
   "outputs": [
    {
     "name": "stdout",
     "output_type": "stream",
     "text": [
      "[[100   1   1]\n",
      " [900   3  29]]\n"
     ]
    }
   ],
   "source": [
    "#Given a 2D array, sort the array by column wise and print the results\n",
    "\n",
    "arr=np.array([[900,3,1],[100,1,29]])\n",
    "\n",
    "sarr=np.sort(arr,axis=0)\n",
    "print(sarr)"
   ]
  },
  {
   "cell_type": "code",
   "execution_count": 4,
   "metadata": {},
   "outputs": [
    {
     "name": "stdout",
     "output_type": "stream",
     "text": [
      "[[1 2 0]\n",
      " [0 2 1]\n",
      " [1 2 0]]\n",
      "[[2 3 4]\n",
      " [1 5 6]\n",
      " [7 8 9]]\n"
     ]
    }
   ],
   "source": [
    "#Given a 2D numpy array of shape (m, n) where m is the number of rows and n is the number of columns, write a function that sorts each row of the array in ascending order, and then returns the indices of the original position of the elements in each row after sorting.\n",
    "# Your function should not use any loops and should only use numpy functions such as sort and argsort.\n",
    "\n",
    "import numpy as np\n",
    "\n",
    "arr=np.array([[4,2,3],[1,6,5],[9,7,8]])\n",
    "\n",
    "def sort_and_return(arr):\n",
    "    indices=np.argsort(arr,axis=1)\n",
    "    sorted_arr=np.sort(arr)\n",
    "    return indices,sorted_arr\n",
    "\n",
    "indices,sorted_arr=sort_and_return(arr)\n",
    "print(indices)\n",
    "print(sorted_arr)\n",
    "\n"
   ]
  },
  {
   "cell_type": "code",
   "execution_count": 6,
   "metadata": {},
   "outputs": [
    {
     "name": "stdout",
     "output_type": "stream",
     "text": [
      "[[9 7 8]\n",
      " [1 6 5]]\n"
     ]
    }
   ],
   "source": [
    "#Given a 2D numpy array of shape (m, n) where m is the number of rows and n is the number of columns, write a function that sorts each column of the array in descending order and returns a new 2D array that contains only the top k elements from each column.\n",
    "#Your function should not use any loops and should only use numpy functions such as sort and argsort.\n",
    "\n",
    "import numpy as np\n",
    "\n",
    "arr=np.array([[1,2,3],[1,6,5],[9,7,8]])\n",
    "\n",
    "def sort_and_return_top_k(arr,k):\n",
    "    s_arr=-np.sort(-arr,axis=0)\n",
    "    return s_arr[:k,:]\n",
    "\n",
    "top_k_arr=sort_and_return_top_k(arr,2)\n",
    "print(top_k_arr)\n",
    "    "
   ]
  }
 ],
 "metadata": {
  "kernelspec": {
   "display_name": "Python 3",
   "language": "python",
   "name": "python3"
  },
  "language_info": {
   "codemirror_mode": {
    "name": "ipython",
    "version": 3
   },
   "file_extension": ".py",
   "mimetype": "text/x-python",
   "name": "python",
   "nbconvert_exporter": "python",
   "pygments_lexer": "ipython3",
   "version": "3.12.4"
  }
 },
 "nbformat": 4,
 "nbformat_minor": 2
}
